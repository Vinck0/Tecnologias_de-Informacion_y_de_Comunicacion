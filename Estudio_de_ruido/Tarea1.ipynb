{
  "nbformat": 4,
  "nbformat_minor": 0,
  "metadata": {
    "colab": {
      "name": "Untitled0.ipynb",
      "provenance": [],
      "collapsed_sections": []
    },
    "kernelspec": {
      "name": "python3",
      "display_name": "Python 3"
    },
    "language_info": {
      "name": "python"
    }
  },
  "cells": [
    {
      "cell_type": "markdown",
      "metadata": {
        "id": "Y-awnzRIMaXc"
      },
      "source": [
        "# Tarea 1"
      ]
    },
    {
      "cell_type": "markdown",
      "metadata": {
        "id": "tkSxDAfAMoc_"
      },
      "source": [
        "Alumno: Vincko Fabres"
      ]
    },
    {
      "cell_type": "markdown",
      "metadata": {
        "id": "vtLWUh5WMjgH"
      },
      "source": [
        "Usando Matlab o Python, transforme el siguiente mensaje a binario usando\n",
        "ACSII. \\\\\n",
        "• Mi nombre es “Nombre Completo”, tarea para el curso EL4107 Tecnologías\n",
        "de Información y de Comunicación \\\\\n",
        "Agregue un “ruido” que tenga diferentes probabilidades de cambiar los bits\n",
        "de información, y vuelva a traducir de binario a texto."
      ]
    },
    {
      "cell_type": "markdown",
      "metadata": {
        "id": "5pvzXbq6M1rF"
      },
      "source": [
        "# Parte 1: código"
      ]
    },
    {
      "cell_type": "markdown",
      "metadata": {
        "id": "EsCNY_jVM7QU"
      },
      "source": [
        "Se importan librerías útiles"
      ]
    },
    {
      "cell_type": "code",
      "metadata": {
        "id": "935Qr9fKzFCV"
      },
      "source": [
        "import random\n",
        "import numpy as np\n",
        "import scipy\n",
        "from scipy.stats import bernoulli"
      ],
      "execution_count": 117,
      "outputs": []
    },
    {
      "cell_type": "markdown",
      "metadata": {
        "id": "5xu1SvLXNAnd"
      },
      "source": [
        "En primera instancia se crean funciones para pasar de binario a texto y viceversa"
      ]
    },
    {
      "cell_type": "code",
      "metadata": {
        "id": "vkrvhCVDi0Ot"
      },
      "source": [
        "#Convertir representacion ASCII a numero binario \n",
        "def letra_binario(letra):\n",
        "    return \"{0:08b}\".format(ord(letra))\n",
        "\n",
        "#Convertir cadena de representacion ASCII a cadena de numeros binario \n",
        "def texto_a_binario(texto):\n",
        "    resultado = \"\"  \n",
        "    i = 0\n",
        "    for letra in texto:\n",
        "        resultado += letra_binario(letra)\n",
        "        # Agregar un espacio entre binarios, excepto si es el último carácter\n",
        "        if i + 1 < len(texto):\n",
        "            resultado += ' '\n",
        "        i += 1\n",
        "    return resultado"
      ],
      "execution_count": 118,
      "outputs": []
    },
    {
      "cell_type": "code",
      "metadata": {
        "id": "pHQOgG43lZRB"
      },
      "source": [
        "#Convertir el numero binario a representacion ASCII\n",
        "def binario_letra(binario):\n",
        "    return chr(int(binario, 2))\n",
        "\n",
        "#Convertir cadena de numeros binarios a ASCII\n",
        "def binario_a_texto(texto_binario):\n",
        "    texto = \"\"\n",
        "    for binario in texto_binario.split(' '):\n",
        "        texto += binario_letra(binario)\n",
        "    return texto"
      ],
      "execution_count": 119,
      "outputs": []
    },
    {
      "cell_type": "markdown",
      "metadata": {
        "id": "Tb0OseKNNLd5"
      },
      "source": [
        "Se crea el mensaje solicitado y se prueban las funciones"
      ]
    },
    {
      "cell_type": "code",
      "metadata": {
        "id": "YojJwyNvncIx"
      },
      "source": [
        "muchotexto = 'Mi nombre es Vincko Giuseppe Fabres Ávalos, tarea para el curso EL4107 Tecnologías de Información y de Comunicación'\n",
        "a=texto_a_binario(muchotexto)"
      ],
      "execution_count": 120,
      "outputs": []
    },
    {
      "cell_type": "code",
      "metadata": {
        "colab": {
          "base_uri": "https://localhost:8080/",
          "height": 35
        },
        "id": "hHludUPnn5Pn",
        "outputId": "84f86f2f-e179-466c-e2a0-cd5af799510f"
      },
      "source": [
        "binario_a_texto(a)"
      ],
      "execution_count": 121,
      "outputs": [
        {
          "output_type": "execute_result",
          "data": {
            "application/vnd.google.colaboratory.intrinsic+json": {
              "type": "string"
            },
            "text/plain": [
              "'Mi nombre es Vincko Giuseppe Fabres Ávalos, tarea para el curso EL4107 Tecnologías de Información y de Comunicación'"
            ]
          },
          "metadata": {},
          "execution_count": 121
        }
      ]
    },
    {
      "cell_type": "markdown",
      "metadata": {
        "id": "8o6G3G7cNThS"
      },
      "source": [
        "Se genera una lista con caracteres validos, esto para no producir errores a la hora de decodificar (con el fin de dar un mensaje con caracteres visibles)"
      ]
    },
    {
      "cell_type": "code",
      "metadata": {
        "id": "MBBPz0tDBTPF"
      },
      "source": [
        "def validos(numero=257):\n",
        "    carvalid=[]\n",
        "    for i in range(numero):\n",
        "      if i>33 and i<127:\n",
        "        carvalid.append(i)\n",
        "      if i>160:\n",
        "        carvalid.append(i)\n",
        "    return carvalid"
      ],
      "execution_count": 122,
      "outputs": []
    },
    {
      "cell_type": "markdown",
      "metadata": {
        "id": "NCvHBNIwNfQ8"
      },
      "source": [
        "Se crea la funcion de ruido, la cual para cada byte utiliza una probabilidad bernoulli, de éxito o fracaso del evento 'modificar byte'"
      ]
    },
    {
      "cell_type": "code",
      "metadata": {
        "id": "luU1oMN0n8lp"
      },
      "source": [
        "#random sin incluir caracteres invalidos\n",
        "def ruido(cadena,probabilidad):#cadena de texto binario y porcentaje de probabilidad de ruido\n",
        "    probabilidad = probabilidad/100\n",
        "    bernoulli = scipy.stats.bernoulli(probabilidad)\n",
        "    resultado= ''\n",
        "    caracteres=validos()\n",
        "    for binario in cadena.split(' '):\n",
        "        if bernoulli.rvs(1)[0]==1:\n",
        "            a=(random.randint(0,188))\n",
        "            a=caracteres[a]\n",
        "            binario = \"{0:08b}\".format(a)\n",
        "            resultado+= binario+' '\n",
        "        else:\n",
        "            resultado+= binario+' '\n",
        "    resultado = resultado.strip() # elimina espacios al inicio y final\n",
        "    return resultado\n",
        "    "
      ],
      "execution_count": 123,
      "outputs": []
    },
    {
      "cell_type": "code",
      "metadata": {
        "id": "DBJrXtLxIwaD"
      },
      "source": [
        "def iteraciones(texto,probabilidad):\n",
        "    i=0\n",
        "    a=texto_a_binario(texto)\n",
        "    print(f'Mensaje inicial: {texto}')\n",
        "    print(f'Mensaje con ruido al {probabilidad}%:')\n",
        "    ruido1=ruido(a,probabilidad)\n",
        "    print(binario_a_texto(ruido1))\n",
        "    while i < 3:\n",
        "        ruido1=ruido(ruido1,probabilidad)\n",
        "        print(binario_a_texto(ruido1))\n",
        "        i+=1"
      ],
      "execution_count": 124,
      "outputs": []
    },
    {
      "cell_type": "markdown",
      "metadata": {
        "id": "KEGxotcHOA0M"
      },
      "source": [
        "Print de 4 itereaciones para cada caso de ruido solicitado"
      ]
    },
    {
      "cell_type": "code",
      "metadata": {
        "colab": {
          "base_uri": "https://localhost:8080/"
        },
        "id": "Db447w_dLJ7H",
        "outputId": "9b158f12-97ac-4065-9b5d-30ed01688f2f"
      },
      "source": [
        "iteraciones(muchotexto,0.1)\n",
        "print('\\n')\n",
        "iteraciones(muchotexto,0.3)\n",
        "print('\\n')\n",
        "iteraciones(muchotexto,0.5)\n",
        "print('\\n')\n",
        "iteraciones(muchotexto,1)\n",
        "print('\\n')\n",
        "iteraciones(muchotexto,3)\n",
        "print('\\n')\n",
        "iteraciones(muchotexto,5)\n",
        "print('\\n')\n",
        "iteraciones(muchotexto,10)"
      ],
      "execution_count": 125,
      "outputs": [
        {
          "output_type": "stream",
          "name": "stdout",
          "text": [
            "Mensaje inicial: Mi nombre es Vincko Giuseppe Fabres Ávalos, tarea para el curso EL4107 Tecnologías de Información y de Comunicación\n",
            "Mensaje con ruido al 0.1%:\n",
            "Mi nombre es Vincko Giuseppe Fabres Ávalos, tarea para el curso EL4107 Tecnologías de Información y de Comunicación\n",
            "Mi nombre es Vincko Giuseppe Fabres Ávalos, tarea para el curso EL4107 Tecnologías de Información y de Comunicación\n",
            "Mi nombre es Vincko Giuseppe Fabres Ávalos, tarea para el curso EL4107 Tecnologías de Información y de Comunicación\n",
            "Mi nombre es Vincko Giuseppe Fabres Ávalos, tarea para el curso EL4107 Tecnologías de Información y de Comunicación\n",
            "\n",
            "\n",
            "Mensaje inicial: Mi nombre es Vincko Giuseppe Fabres Ávalos, tarea para el curso EL4107 Tecnologías de Información y de Comunicación\n",
            "Mensaje con ruido al 0.3%:\n",
            "Mi nombre es Vincko Giuseppe Fabres Ávalos, tarea para el curso EL4107 Tecnologías de Información y de Comunicación\n",
            "Mi nombre es Vincko Giuseppe Fabres Ávalos, tarea para el curso EL4107 Tecnologías de Información y de Comunicación\n",
            "Mi nombre es Vincko Giuseppe Fabres Ávalos, tarea para el curso EL4107 T/cnologías de Información y de Comunicación\n",
            "Mi nombre es Vincko Ôiuseppe Fabres Ávalos, tarea para el curs° EL4107 T/cnologías de Información y de Comunicación\n",
            "\n",
            "\n",
            "Mensaje inicial: Mi nombre es Vincko Giuseppe Fabres Ávalos, tarea para el curso EL4107 Tecnologías de Información y de Comunicación\n",
            "Mensaje con ruido al 0.5%:\n",
            "Mi nombre es Vincko Girseppe Fabres Ávalos, tarea para el curso EL4107 Tecnologías de Info1mación y de Comunicación\n",
            "Mi nombre es Vincko Girseppe Fabres Ávalos, tarea para el curso EL4107 Tecnologías de Info1mación y de Comunicación\n",
            "Mi nombre es Vincko Girseppe Fabres Ávalos, tarea para Àl curso EL410q Tecnologías de Info1mación y de Comunicación\n",
            "Mi nombre es Vincko Girseppe Fabres Ávalos, tarea para¢Àl curso EL410q Tecnologías de Info1mación y de Comunicación\n",
            "\n",
            "\n",
            "Mensaje inicial: Mi nombre es Vincko Giuseppe Fabres Ávalos, tarea para el curso EL4107 Tecnologías de Información y de Comunicación\n",
            "Mensaje con ruido al 1%:\n",
            "Mi nombre es Vincko Gius{ppe Fabres Ávalos, tarea para el curso EL4107 Tecnologías de Información y de Comuni¸ación\n",
            "Mi nombre es VJncko Gius{ppe Fabres Ávalos, tarea para el curso EL4107 Tecnologías de Información y de Comuni¸ación\n",
            "Mi nombre es VJncko Gius{ppe Fabres Ávalos, tarea para el curso EL4107 Tecnologías de Información y de Comuni¸ación\n",
            "Mi nombre es VJncko Gius{ppe F4bres Ávalos, tarea para el curso EL4107 Tecnologías de Información y de Comuni¸ación\n",
            "\n",
            "\n",
            "Mensaje inicial: Mi nombre es Vincko Giuseppe Fabres Ávalos, tarea para el curso EL4107 Tecnologías de Información y de Comunicación\n",
            "Mensaje con ruido al 3%:\n",
            "Mi sombre es Vincko Giusepâe Fabres7Ávalos, tarea para el 'urso ELÝ1é7 Tecnologías de Información½y de×Comunicación\n",
            "Mi sombre es Vincko GiusepÈe Fabr)s7ÁvalosÍ tarea parÍ el 'urso ELÝ1é7 Tecnologías deäIzformación½y de×Comun_cación\n",
            "Mi somere es Vincko GiusepÈe Fabr)s7Ával¿sÍ tarea parÍ el 'urso ELÝ1é7 Tecnologías deäIzformación½y me×Comun_cación\n",
            "Mi somere es Vincko GiusepÈZ Fabr)s7Ával¿sÍ tarea parÍ eG 'urso ELÝ1é7 Tecnologías deäIzformac-ón½y me×Comun_cación\n",
            "\n",
            "\n",
            "Mensaje inicial: Mi nombre es Vincko Giuseppe Fabres Ávalos, tarea para el curso EL4107 Tecnologías de Información y de Comunicación\n",
            "Mensaje con ruido al 5%:\n",
            "Mi nombre es VinckonGiuseppe Fabres Ávalos, tarea para el curso ÅL4107 Tecnologías de Información y de Comunicación\n",
            "Mi nombre es VinckonGiuseppe Fabres Ávalos, tar§a para el curso ÅL4v07 Tecnolo)í5s de Inforuación y de Comunicación\n",
            "MÇ nombre es VinckonGiuseppe Fabres Ávalos, tar§a para el curso ÅL4v07öTecnolo)í5s de Inforuación ydde Comuµicación\n",
            "MÇ nombre es VinckonGiuseppe FabrÖs Ávalos, tar§a paræ el cuUso ÅL4v07öTscnolo)í5s de Ünforuación ydde Comuµicación\n",
            "\n",
            "\n",
            "Mensaje inicial: Mi nombre es Vincko Giuseppe Fabres Ávalos, tarea para el curso EL4107 Tecnologías de Información y de Comunicación\n",
            "Mensaje con ruido al 10%:\n",
            "Mi nom\\re es Vinc²oJGiuseppe Fabres Ávalos, tarea para el curso EL4107 TecnologåasPde Información y deÝComunica0ión\n",
            "Mi n(m\\re es Vinc²çJéiusep÷e FÃbres Ávalos, tareÚ9para el curso»EL4107 Tecnologåa×Ûde ¡nformacióê y YeÝC^munica0ión\n",
            "Mi n}m\\8e `s Iinc²çJéiusep÷e FÃbres Ávalos, tareÚ9para el curso»EL410² ¥çcnolLgåa×Ûde ¡nformac­©ê y YeCC^muZica0ión\n",
            "Mi n}m\\8SÙ`s Iin¥²çJéiusep÷e FÃbre7 Ával±s, tareÚ9para el-curso.EL410² ¥çcnolLgåa×Ûde ¡nfîrmac­©ê y YeCC^muZiÍa0ión\n"
          ]
        }
      ]
    },
    {
      "cell_type": "markdown",
      "metadata": {
        "id": "kBFXsCYiOH9t"
      },
      "source": [
        "Al ver cada iteración es posoble observar mayor cantidad de caracteres modificados, esto debido a que en la decodificación del mensaje este venía con ruido. De igual forma a medida que la probabilidad de ruido va alcanzando el 100% se hace notoria la poca fiabilidad en la decodificación del mensaje, esto queda en evidencia al comparara la última iteración del mensaje con ruido 0.1% versus la primera iteración del mensaje con ruido al 10%, donde este último posee mayor deformación."
      ]
    }
  ]
}